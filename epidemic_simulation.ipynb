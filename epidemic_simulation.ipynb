{
 "cells": [
  {
   "cell_type": "code",
   "execution_count": 4,
   "id": "a491f3d0",
   "metadata": {},
   "outputs": [],
   "source": [
    "import numpy as np\n",
    "import math"
   ]
  },
  {
   "cell_type": "code",
   "execution_count": 5,
   "id": "fed1547d",
   "metadata": {},
   "outputs": [
    {
     "name": "stdout",
     "output_type": "stream",
     "text": [
      "[1, 0, 1, 2, 3, 0, 0, 0, 2, 0, 1, 3, 1, 1, 0, 5, 0, 0, 1, 0, 2, 1, 2, 0, 1, 0, 1, 1, 3, 0, 1, 1, 1, 0, 3, 1, 2, 1, 0, 0, 0, 1, 1, 0, 0, 0, 2, 1, 2, 2, 2, 1, 1, 1, 1, 1, 1, 3, 1, 0, 2, 0, 0, 2, 1, 0, 1, 1, 1, 0, 1, 0, 2, 0, 1, 1, 2, 0, 2, 1, 1, 2, 3, 1, 1, 0, 2, 1, 2, 2, 0, 1, 1, 1, 1, 1, 0, 0, 0, 3]\n"
     ]
    }
   ],
   "source": [
    "def poissonProcess(lam, length):\n",
    "    output = []\n",
    "    for i in range(length):\n",
    "        random_period = np.random.poisson(lam)\n",
    "        output.append(random_period)\n",
    "    return output\n",
    "\n",
    "y = poissonProcess(1, 100)\n",
    "print(y)\n",
    "    \n",
    "    "
   ]
  },
  {
   "cell_type": "code",
   "execution_count": null,
   "id": "c10bc71b",
   "metadata": {},
   "outputs": [],
   "source": [
    "class Simulation:\n",
    "    def __init__(beta, a):\n",
    "        self.beta = beta\n",
    "        self.a = a"
   ]
  }
 ],
 "metadata": {
  "kernelspec": {
   "display_name": "Python 3 (ipykernel)",
   "language": "python",
   "name": "python3"
  },
  "language_info": {
   "codemirror_mode": {
    "name": "ipython",
    "version": 3
   },
   "file_extension": ".py",
   "mimetype": "text/x-python",
   "name": "python",
   "nbconvert_exporter": "python",
   "pygments_lexer": "ipython3",
   "version": "3.9.7"
  }
 },
 "nbformat": 4,
 "nbformat_minor": 5
}
